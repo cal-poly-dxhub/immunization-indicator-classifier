{
 "cells": [
  {
   "cell_type": "code",
   "execution_count": 2,
   "metadata": {},
   "outputs": [],
   "source": [
    "import boto3\n",
    "import os\n",
    "from botocore.exceptions import ClientError\n",
    "import json"
   ]
  },
  {
   "cell_type": "code",
   "execution_count": null,
   "metadata": {},
   "outputs": [],
   "source": [
    "os.environ[\"AWS_PROFILE\"] = \"profile_name\"\n",
    "os.environ[\"AWS_DEFAULT_REGION\"] = \"us-west-2\""
   ]
  },
  {
   "cell_type": "code",
   "execution_count": null,
   "metadata": {},
   "outputs": [],
   "source": [
    "sts = boto3.client(\"sts\")\n",
    "BEDROCK_ROLE_ARN = \"role_arn\"\n",
    "sts.assume_role(\n",
    "    RoleArn=BEDROCK_ROLE_ARN,\n",
    "    RoleSessionName=\"session-name\",\n",
    ")"
   ]
  },
  {
   "cell_type": "code",
   "execution_count": null,
   "metadata": {},
   "outputs": [],
   "source": [
    "TABLE = \"diseases-attributes\"\n",
    "dynamodb = boto3.client(\"dynamodb\")\n",
    "\n",
    "# grab index 114\n",
    "try:\n",
    "    response = dynamodb.get_item(\n",
    "        TableName=TABLE,\n",
    "        Key={\"csdi_code\": {\"S\": \"114\"}},\n",
    "    )\n",
    "    print(response[\"Item\"])\n",
    "except Exception as e:\n",
    "    print(e)\n",
    "    print(\"Error getting item from table\")\n",
    "    raise e"
   ]
  },
  {
   "cell_type": "code",
   "execution_count": 6,
   "metadata": {},
   "outputs": [],
   "source": [
    "def get_csdi_objects(codes: list[str]) -> list[dict]:\n",
    "    try:\n",
    "        response = dynamodb.batch_get_item(\n",
    "            RequestItems={\n",
    "                TABLE: {\n",
    "                    \"Keys\": [{\"csdi_code\": {\"S\": code}} for code in codes],\n",
    "                },\n",
    "            },\n",
    "        )\n",
    "        return response[\"Responses\"][TABLE]\n",
    "    except ClientError as e:\n",
    "        print(e)\n",
    "        print(\"Error getting items from table\")\n",
    "        raise e"
   ]
  },
  {
   "cell_type": "code",
   "execution_count": null,
   "metadata": {},
   "outputs": [],
   "source": [
    "get_csdi_objects([\"114\", \"115\", \"116\"])"
   ]
  },
  {
   "cell_type": "code",
   "execution_count": null,
   "metadata": {},
   "outputs": [],
   "source": [
    "# BEDROCK_MODEL = \"amazon.titan-text-lite-v1\"\n",
    "BEDROCK_MODEL = \"amazon.titan-text-express-v1\"\n",
    "\n",
    "DELIMITER = \"***\"\n",
    "\n",
    "STRUCTURING_PROMPT = f\"\"\"\n",
    "The following JSON objects have information about particular conditions, \n",
    "including associated disorders, medications, and observations/symptoms. \n",
    "\n",
    "For each JSON object representing a condition, describe a patient with \n",
    "the condition. Follow the general format:\n",
    "\n",
    "\"The patient has <disease-name>. They have <disorders> and have been \n",
    "observed to experience <observations / symptoms>. They are currently \n",
    "taking the medications <medications>.\"\n",
    "\n",
    "Replace the <...> with the appropriate information from the JSON object.\n",
    "\n",
    "Delimit each response with {DELIMITER} and nothing else. Don't return anything else; \n",
    "just the responses. Be sure to return one response per code.\n",
    "\n",
    "\"\"\"\n",
    "bedrock = boto3.client(\"bedrock-runtime\")\n",
    "\n",
    "DEBUG = False\n",
    "MAX_ATTEMPTS = 3\n",
    "\n",
    "\n",
    "def construct_semantic_context(code_objs: list[dict]) -> dict:\n",
    "    try:\n",
    "        full_prompt = STRUCTURING_PROMPT + \"\\n\\n\" + json.dumps(code_objs)\n",
    "        if DEBUG:\n",
    "            print(\"Prompting Bedrock with:\")\n",
    "            print(full_prompt)\n",
    "        native_request = {\n",
    "            \"inputText\": full_prompt,\n",
    "            \"textGenerationConfig\": {\n",
    "                \"maxTokenCount\": 512,\n",
    "                \"temperature\": 0.1,\n",
    "                \"topP\": 0.9,\n",
    "            },\n",
    "        }\n",
    "        request = json.dumps(native_request)\n",
    "        print(\"Making Bedrock API request\")\n",
    "        response = bedrock.invoke_model(\n",
    "            modelId=BEDROCK_MODEL,\n",
    "            body=request,\n",
    "        )\n",
    "        print(\"Bedrock response received\")\n",
    "        body = json.loads(response[\"body\"].read())\n",
    "        print(response)\n",
    "\n",
    "        input_tokens = response[\"ResponseMetadata\"][\"HTTPHeaders\"][\n",
    "            \"x-amzn-bedrock-input-token-count\"\n",
    "        ]\n",
    "        output_tokens = response[\"ResponseMetadata\"][\"HTTPHeaders\"][\n",
    "            \"x-amzn-bedrock-output-token-count\"\n",
    "        ]\n",
    "        print(f\"Input tokens: {input_tokens}, Output tokens: {output_tokens}\")\n",
    "\n",
    "        code_docs = [\n",
    "            i.strip()\n",
    "            for i in body[\"results\"][0][\"outputText\"].split(DELIMITER)\n",
    "            if i.strip()\n",
    "        ]\n",
    "        return code_docs\n",
    "    except ClientError as e:\n",
    "        print(e)\n",
    "        print(\"Error invoking bedrock endpoint\")\n",
    "        raise e\n",
    "\n",
    "\n",
    "def construct_semantic_context_retryable(code_objs: list[dict]) -> dict:\n",
    "    attempts = 0\n",
    "    while attempts < MAX_ATTEMPTS:\n",
    "        try:\n",
    "            docs = construct_semantic_context(code_objs)\n",
    "            if len(docs) == len(code_objs):\n",
    "                return docs\n",
    "            else:\n",
    "                attempts += 1\n",
    "                print(\n",
    "                    f\"Attempt {attempts} failed; {len(docs)} docs returned for {len(code_objs)} codes\"\n",
    "                )\n",
    "        except ClientError as e:\n",
    "            attempts += 1\n",
    "            print(f\"Attempt {attempts} failed because of an error {e}\")\n",
    "    print(\"Max attempts reached\")\n",
    "    raise Exception(\"Max attempts reached\")"
   ]
  },
  {
   "cell_type": "code",
   "execution_count": null,
   "metadata": {},
   "outputs": [],
   "source": [
    "csdi_codes = [\"114\", \"115\", \"116\"]\n",
    "code_docs = construct_semantic_context_retryable(get_csdi_objects(csdi_codes))\n",
    "code_docs"
   ]
  },
  {
   "cell_type": "code",
   "execution_count": 77,
   "metadata": {},
   "outputs": [
    {
     "data": {
      "text/plain": [
       "['The patient has [End stage renal disease in the context of End stage renal disease [disorder] ();Dependence on hemodialysis [finding] ();Continuous renal replacement therapy [procedure] ()] and has been observed to experience fatigue, anemia, edema, nausea, vomiting, decreased appetite, muscle cramps, itching, bone pain, and cognitive impairment. They are currently taking erythropoietin, calcitriol, phosphate binders, antihypertensive medications (e.g., ACE inhibitors, ARBs), diuretics, anticoagulants (e.g., heparin, warfarin), and protamine sulfate.',\n",
       " 'The patient has [Severe allergic reaction to protamine sulfate in the context of Protamine sulfate [substance] ();Protamine allergy [disorder] ()] and has been observed to experience anaphylaxis, hypotension, bronchospasm, urticaria, angioedema, nausea, vomiting, diarrhea, and abdominal pain. They are currently taking epinephrine, antihistamines, and corticosteroids.',\n",
       " 'The patient has [Severe allergic reaction after previous dose of Meningococcal B in the context of Adverse reaction caused by meningococcal group B vaccine [disorder] ()] and has been observed to experience anaphylaxis, angioedema, urticaria, hypotension, tachycardia, and respiratory distress. They are currently taking epinephrine, antihistamines, and corticosteroids.']"
      ]
     },
     "execution_count": 77,
     "metadata": {},
     "output_type": "execute_result"
    }
   ],
   "source": [
    "code_docs"
   ]
  },
  {
   "cell_type": "code",
   "execution_count": 60,
   "metadata": {},
   "outputs": [],
   "source": [
    "def embed_doc(doc: str) -> str:\n",
    "    \"\"\"\n",
    "    Takes a document and embeds it using a Bedrock embedding model.\n",
    "    \"\"\"\n",
    "    EMBED_MODEL = \"amazon.titan-embed-text-v2:0\"\n",
    "    try:\n",
    "        native_request = {\n",
    "            \"inputText\": doc,\n",
    "            \"dimensions\": 1024,\n",
    "            \"normalize\": True,\n",
    "            \"embeddingTypes\": [\"binary\"],\n",
    "        }\n",
    "        request = json.dumps(native_request)\n",
    "        response = bedrock.invoke_model(\n",
    "            modelId=EMBED_MODEL,\n",
    "            body=request,\n",
    "            accept=\"application/json\",\n",
    "            contentType=\"application/json\",\n",
    "        )\n",
    "        vec = json.loads(response[\"body\"].read())[\"embeddingsByType\"][\"binary\"]\n",
    "        return vec\n",
    "    except ClientError as e:\n",
    "        print(e)\n",
    "        print(\"Error invoking bedrock endpoint\")\n",
    "        raise e"
   ]
  },
  {
   "cell_type": "code",
   "execution_count": 61,
   "metadata": {},
   "outputs": [],
   "source": [
    "def embed_csdi_codes(codes: list[str]) -> list[int]:\n",
    "    \"\"\"\n",
    "    Embeds the documents for the given CSDI codes.\n",
    "    \"\"\"\n",
    "    csdi_objects = get_csdi_objects(codes)\n",
    "    print(\"Number of objects:\", len(csdi_objects))\n",
    "    code_docs = construct_semantic_context(csdi_objects)\n",
    "    print(code_docs)\n",
    "    return [embed_doc(doc) for doc in code_docs]"
   ]
  },
  {
   "cell_type": "code",
   "execution_count": null,
   "metadata": {},
   "outputs": [],
   "source": [
    "codes = [\"114\", \"115\", \"116\"]\n",
    "vec = embed_csdi_codes(codes)\n",
    "vec"
   ]
  },
  {
   "cell_type": "code",
   "execution_count": 67,
   "metadata": {},
   "outputs": [
    {
     "data": {
      "text/plain": [
       "array([[0, 0, 0, ..., 0, 1, 0],\n",
       "       [0, 0, 0, ..., 1, 1, 0],\n",
       "       [0, 1, 0, ..., 0, 1, 1],\n",
       "       ...,\n",
       "       [0, 1, 0, ..., 1, 1, 1],\n",
       "       [1, 1, 0, ..., 1, 1, 1],\n",
       "       [0, 1, 0, ..., 1, 1, 1]], shape=(8, 1024))"
      ]
     },
     "execution_count": 67,
     "metadata": {},
     "output_type": "execute_result"
    }
   ],
   "source": [
    "import numpy as np\n",
    "\n",
    "embeds = np.array(vec)\n",
    "embeds"
   ]
  },
  {
   "cell_type": "code",
   "execution_count": null,
   "metadata": {},
   "outputs": [],
   "source": []
  }
 ],
 "metadata": {
  "kernelspec": {
   "display_name": ".venv",
   "language": "python",
   "name": "python3"
  },
  "language_info": {
   "codemirror_mode": {
    "name": "ipython",
    "version": 3
   },
   "file_extension": ".py",
   "mimetype": "text/x-python",
   "name": "python",
   "nbconvert_exporter": "python",
   "pygments_lexer": "ipython3",
   "version": "3.13.1"
  }
 },
 "nbformat": 4,
 "nbformat_minor": 2
}
